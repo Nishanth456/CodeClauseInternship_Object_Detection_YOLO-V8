{
 "cells": [
  {
   "cell_type": "code",
   "execution_count": 1,
   "id": "6ac667c4",
   "metadata": {},
   "outputs": [],
   "source": [
    "import cv2\n",
    "import os\n",
    "import time\n",
    "import uuid"
   ]
  },
  {
   "cell_type": "code",
   "execution_count": 2,
   "id": "34e1c2dc",
   "metadata": {},
   "outputs": [],
   "source": [
    "imagespath = 'Dataset'"
   ]
  },
  {
   "cell_type": "code",
   "execution_count": 3,
   "id": "b8a486b9",
   "metadata": {},
   "outputs": [],
   "source": [
    "labels = ['Apple', 'Mouse', 'Purse', 'Box', 'Spoon']\n",
    "number_imgs = 24"
   ]
  },
  {
   "cell_type": "code",
   "execution_count": 4,
   "id": "5050f76f",
   "metadata": {},
   "outputs": [
    {
     "name": "stdout",
     "output_type": "stream",
     "text": [
      "Collecting images for Apple\n",
      "Collecting images for Mouse\n",
      "Collecting images for Purse\n",
      "Collecting images for Box\n",
      "Collecting images for Spoon\n"
     ]
    }
   ],
   "source": [
    "for label in labels:\n",
    "    !mkdir {'Dataset\\\\'+label}\n",
    "    cap = cv2.VideoCapture(0)\n",
    "    print('Collecting images for {}'.format(label))\n",
    "    time.sleep(5)\n",
    "    for imgnum in range(number_imgs):\n",
    "        ret, frame = cap.read()\n",
    "        imgname = os.path.join(imagespath, label, label+'. '+'{}.jpg'.format(str(uuid.uuid1())))\n",
    "        cv2.imwrite(imgname, frame)\n",
    "        cv2.imshow('frame', frame)\n",
    "        time.sleep(1)\n",
    "        \n",
    "        if cv2.waitKey(1) & 0xFF == ord('q'):\n",
    "            break\n",
    "    cap.release()"
   ]
  },
  {
   "cell_type": "code",
   "execution_count": 7,
   "id": "835fc20c",
   "metadata": {},
   "outputs": [],
   "source": [
    "LABELING_PATH = os.path.join('LabelledImages','labelimg')"
   ]
  },
  {
   "cell_type": "code",
   "execution_count": 8,
   "id": "b9a2b12b",
   "metadata": {},
   "outputs": [
    {
     "name": "stderr",
     "output_type": "stream",
     "text": [
      "Cloning into 'LabelledImages\\labelimg'...\n"
     ]
    }
   ],
   "source": [
    "if not os.path.exists(LABELING_PATH):\n",
    "    !mkdir {LABELING_PATH}\n",
    "    !git clone https://github.com/tzutalin/labelImg {LABELING_PATH}"
   ]
  },
  {
   "cell_type": "code",
   "execution_count": 9,
   "id": "35c91c88",
   "metadata": {},
   "outputs": [
    {
     "data": {
      "text/plain": [
       "'LabelledImages\\\\labelimg'"
      ]
     },
     "execution_count": 9,
     "metadata": {},
     "output_type": "execute_result"
    }
   ],
   "source": [
    "LABELING_PATH "
   ]
  },
  {
   "cell_type": "code",
   "execution_count": 10,
   "id": "91fd4a57",
   "metadata": {},
   "outputs": [],
   "source": [
    "if os.name == 'posix':\n",
    "    !cd {LABELING_PATH} && make qt5py3\n",
    "\n",
    "if os.name =='nt':\n",
    "    !cd {LABELING_PATH} && pyrcc5 -o libs/resources.py resources.qrc\n"
   ]
  },
  {
   "cell_type": "code",
   "execution_count": 14,
   "id": "61b719f6",
   "metadata": {},
   "outputs": [
    {
     "name": "stdout",
     "output_type": "stream",
     "text": [
      "[('Apple', [(149, 105), (379, 105), (379, 324), (149, 324)], None, None, False)]\n",
      "[('Apple', [(149, 105), (379, 105), (379, 324), (149, 324)], None, None, False)]\n",
      "Image:C:\\Users\\nisha\\Projects\\Real-time-Object-Detection-Yolo-OwnDataset\\Dataset\\Apple\\Apple. a9d34246-5a04-11ee-8285-f0a654343086.jpg -> Annotation:C:/Users/nisha/Projects/Real-time-Object-Detection-Yolo-OwnDataset/Dataset1\\Apple. a9d34246-5a04-11ee-8285-f0a654343086.txt\n",
      "Image:C:\\Users\\nisha\\Projects\\Real-time-Object-Detection-Yolo-OwnDataset\\Dataset\\Apple\\Apple. a93619a4-5a04-11ee-b624-f0a654343086.jpg -> Annotation:C:/Users/nisha/Projects/Real-time-Object-Detection-Yolo-OwnDataset/Dataset1\\Apple. a93619a4-5a04-11ee-b624-f0a654343086.txt\n",
      "Image:C:\\Users\\nisha\\Projects\\Real-time-Object-Detection-Yolo-OwnDataset\\Dataset\\Apple\\Apple. aa70dd3c-5a04-11ee-b5b2-f0a654343086.jpg -> Annotation:C:/Users/nisha/Projects/Real-time-Object-Detection-Yolo-OwnDataset/Dataset1\\Apple. aa70dd3c-5a04-11ee-b5b2-f0a654343086.txt\n",
      "Image:C:\\Users\\nisha\\Projects\\Real-time-Object-Detection-Yolo-OwnDataset\\Dataset\\Apple\\Apple. ab0b3367-5a04-11ee-a346-f0a654343086.jpg -> Annotation:C:/Users/nisha/Projects/Real-time-Object-Detection-Yolo-OwnDataset/Dataset1\\Apple. ab0b3367-5a04-11ee-a346-f0a654343086.txt\n",
      "Image:C:\\Users\\nisha\\Projects\\Real-time-Object-Detection-Yolo-OwnDataset\\Dataset\\Apple\\Apple. aba5dc4a-5a04-11ee-af09-f0a654343086.jpg -> Annotation:C:/Users/nisha/Projects/Real-time-Object-Detection-Yolo-OwnDataset/Dataset1\\Apple. aba5dc4a-5a04-11ee-af09-f0a654343086.txt\n",
      "Image:C:\\Users\\nisha\\Projects\\Real-time-Object-Detection-Yolo-OwnDataset\\Dataset\\Apple\\Apple. ac408eb8-5a04-11ee-81e9-f0a654343086.jpg -> Annotation:C:/Users/nisha/Projects/Real-time-Object-Detection-Yolo-OwnDataset/Dataset1\\Apple. ac408eb8-5a04-11ee-81e9-f0a654343086.txt\n",
      "Image:C:\\Users\\nisha\\Projects\\Real-time-Object-Detection-Yolo-OwnDataset\\Dataset\\Apple\\Apple. acdd2751-5a04-11ee-9d5f-f0a654343086.jpg -> Annotation:C:/Users/nisha/Projects/Real-time-Object-Detection-Yolo-OwnDataset/Dataset1\\Apple. acdd2751-5a04-11ee-9d5f-f0a654343086.txt\n",
      "Image:C:\\Users\\nisha\\Projects\\Real-time-Object-Detection-Yolo-OwnDataset\\Dataset\\Apple\\Apple. ad778832-5a04-11ee-9886-f0a654343086.jpg -> Annotation:C:/Users/nisha/Projects/Real-time-Object-Detection-Yolo-OwnDataset/Dataset1\\Apple. ad778832-5a04-11ee-9886-f0a654343086.txt\n",
      "Image:C:\\Users\\nisha\\Projects\\Real-time-Object-Detection-Yolo-OwnDataset\\Dataset\\Apple\\Apple. ae13cef2-5a04-11ee-a7b2-f0a654343086.jpg -> Annotation:C:/Users/nisha/Projects/Real-time-Object-Detection-Yolo-OwnDataset/Dataset1\\Apple. ae13cef2-5a04-11ee-a7b2-f0a654343086.txt\n",
      "Image:C:\\Users\\nisha\\Projects\\Real-time-Object-Detection-Yolo-OwnDataset\\Dataset\\Apple\\Apple. aeae4d6d-5a04-11ee-be89-f0a654343086.jpg -> Annotation:C:/Users/nisha/Projects/Real-time-Object-Detection-Yolo-OwnDataset/Dataset1\\Apple. aeae4d6d-5a04-11ee-be89-f0a654343086.txt\n",
      "Image:C:\\Users\\nisha\\Projects\\Real-time-Object-Detection-Yolo-OwnDataset\\Dataset\\Apple\\Apple. af48b3a2-5a04-11ee-8fbf-f0a654343086.jpg -> Annotation:C:/Users/nisha/Projects/Real-time-Object-Detection-Yolo-OwnDataset/Dataset1\\Apple. af48b3a2-5a04-11ee-8fbf-f0a654343086.txt\n",
      "Image:C:\\Users\\nisha\\Projects\\Real-time-Object-Detection-Yolo-OwnDataset\\Dataset\\Apple\\Apple. afe4f77b-5a04-11ee-8d2f-f0a654343086.jpg -> Annotation:C:/Users/nisha/Projects/Real-time-Object-Detection-Yolo-OwnDataset/Dataset1\\Apple. afe4f77b-5a04-11ee-8d2f-f0a654343086.txt\n",
      "Image:C:\\Users\\nisha\\Projects\\Real-time-Object-Detection-Yolo-OwnDataset\\Dataset\\Apple\\Apple. b1b6ebbe-5a04-11ee-aefe-f0a654343086.jpg -> Annotation:C:/Users/nisha/Projects/Real-time-Object-Detection-Yolo-OwnDataset/Dataset1\\Apple. b1b6ebbe-5a04-11ee-aefe-f0a654343086.txt\n",
      "Image:C:\\Users\\nisha\\Projects\\Real-time-Object-Detection-Yolo-OwnDataset\\Dataset\\Apple\\Apple. b2ee2aa0-5a04-11ee-b5a9-f0a654343086.jpg -> Annotation:C:/Users/nisha/Projects/Real-time-Object-Detection-Yolo-OwnDataset/Dataset1\\Apple. b2ee2aa0-5a04-11ee-b5a9-f0a654343086.txt\n",
      "Image:C:\\Users\\nisha\\Projects\\Real-time-Object-Detection-Yolo-OwnDataset\\Dataset\\Apple\\Apple. b4bd74fb-5a04-11ee-80ae-f0a654343086.jpg -> Annotation:C:/Users/nisha/Projects/Real-time-Object-Detection-Yolo-OwnDataset/Dataset1\\Apple. b4bd74fb-5a04-11ee-80ae-f0a654343086.txt\n",
      "Image:C:\\Users\\nisha\\Projects\\Real-time-Object-Detection-Yolo-OwnDataset\\Dataset\\Apple\\Apple. b5f3dc44-5a04-11ee-8ff8-f0a654343086.jpg -> Annotation:C:/Users/nisha/Projects/Real-time-Object-Detection-Yolo-OwnDataset/Dataset1\\Apple. b5f3dc44-5a04-11ee-8ff8-f0a654343086.txt\n",
      "Image:C:\\Users\\nisha\\Projects\\Real-time-Object-Detection-Yolo-OwnDataset\\Dataset\\Apple\\Apple. b11c8e84-5a04-11ee-9b5a-f0a654343086.jpg -> Annotation:C:/Users/nisha/Projects/Real-time-Object-Detection-Yolo-OwnDataset/Dataset1\\Apple. b11c8e84-5a04-11ee-9b5a-f0a654343086.txt\n",
      "Image:C:\\Users\\nisha\\Projects\\Real-time-Object-Detection-Yolo-OwnDataset\\Dataset\\Apple\\Apple. b72bf754-5a04-11ee-bab7-f0a654343086.jpg -> Annotation:C:/Users/nisha/Projects/Real-time-Object-Detection-Yolo-OwnDataset/Dataset1\\Apple. b72bf754-5a04-11ee-bab7-f0a654343086.txt\n",
      "Image:C:\\Users\\nisha\\Projects\\Real-time-Object-Detection-Yolo-OwnDataset\\Dataset\\Apple\\Apple. b3889ad2-5a04-11ee-a463-f0a654343086.jpg -> Annotation:C:/Users/nisha/Projects/Real-time-Object-Detection-Yolo-OwnDataset/Dataset1\\Apple. b3889ad2-5a04-11ee-a463-f0a654343086.txt\n",
      "Image:C:\\Users\\nisha\\Projects\\Real-time-Object-Detection-Yolo-OwnDataset\\Dataset\\Apple\\Apple. b4230caa-5a04-11ee-b967-f0a654343086.jpg -> Annotation:C:/Users/nisha/Projects/Real-time-Object-Detection-Yolo-OwnDataset/Dataset1\\Apple. b4230caa-5a04-11ee-b967-f0a654343086.txt\n",
      "Image:C:\\Users\\nisha\\Projects\\Real-time-Object-Detection-Yolo-OwnDataset\\Dataset\\Apple\\Apple. b5592db5-5a04-11ee-aed3-f0a654343086.jpg -> Annotation:C:/Users/nisha/Projects/Real-time-Object-Detection-Yolo-OwnDataset/Dataset1\\Apple. b5592db5-5a04-11ee-aed3-f0a654343086.txt\n",
      "Image:C:\\Users\\nisha\\Projects\\Real-time-Object-Detection-Yolo-OwnDataset\\Dataset\\Apple\\Apple. b25176b9-5a04-11ee-93dc-f0a654343086.jpg -> Annotation:C:/Users/nisha/Projects/Real-time-Object-Detection-Yolo-OwnDataset/Dataset1\\Apple. b25176b9-5a04-11ee-93dc-f0a654343086.txt\n",
      "Image:C:\\Users\\nisha\\Projects\\Real-time-Object-Detection-Yolo-OwnDataset\\Dataset\\Apple\\Apple. b081473e-5a04-11ee-9379-f0a654343086.jpg -> Annotation:C:/Users/nisha/Projects/Real-time-Object-Detection-Yolo-OwnDataset/Dataset1\\Apple. b081473e-5a04-11ee-9379-f0a654343086.txt\n",
      "Image:C:\\Users\\nisha\\Projects\\Real-time-Object-Detection-Yolo-OwnDataset\\Dataset\\Apple\\Apple. b6909680-5a04-11ee-b7b6-f0a654343086.jpg -> Annotation:C:/Users/nisha/Projects/Real-time-Object-Detection-Yolo-OwnDataset/Dataset1\\Apple. b6909680-5a04-11ee-b7b6-f0a654343086.txt\n",
      "Image:C:\\Users\\nisha\\Projects\\Real-time-Object-Detection-Yolo-OwnDataset\\Dataset\\Box\\Box. e2d95b02-5a04-11ee-b221-f0a654343086.jpg -> Annotation:C:/Users/nisha/Projects/Real-time-Object-Detection-Yolo-OwnDataset/Dataset1\\Box. e2d95b02-5a04-11ee-b221-f0a654343086.txt\n",
      "Image:C:\\Users\\nisha\\Projects\\Real-time-Object-Detection-Yolo-OwnDataset\\Dataset\\Box\\Box. e4a922da-5a04-11ee-a39a-f0a654343086.jpg -> Annotation:C:/Users/nisha/Projects/Real-time-Object-Detection-Yolo-OwnDataset/Dataset1\\Box. e4a922da-5a04-11ee-a39a-f0a654343086.txt\n",
      "Image:C:\\Users\\nisha\\Projects\\Real-time-Object-Detection-Yolo-OwnDataset\\Dataset\\Box\\Box. e5e0fc6f-5a04-11ee-b00a-f0a654343086.jpg -> Annotation:C:/Users/nisha/Projects/Real-time-Object-Detection-Yolo-OwnDataset/Dataset1\\Box. e5e0fc6f-5a04-11ee-b00a-f0a654343086.txt\n",
      "Image:C:\\Users\\nisha\\Projects\\Real-time-Object-Detection-Yolo-OwnDataset\\Dataset\\Box\\Box. e7b4851f-5a04-11ee-a6c9-f0a654343086.jpg -> Annotation:C:/Users/nisha/Projects/Real-time-Object-Detection-Yolo-OwnDataset/Dataset1\\Box. e7b4851f-5a04-11ee-a6c9-f0a654343086.txt\n",
      "Image:C:\\Users\\nisha\\Projects\\Real-time-Object-Detection-Yolo-OwnDataset\\Dataset\\Box\\Box. e8e9dff9-5a04-11ee-a632-f0a654343086.jpg -> Annotation:C:/Users/nisha/Projects/Real-time-Object-Detection-Yolo-OwnDataset/Dataset1\\Box. e8e9dff9-5a04-11ee-a632-f0a654343086.txt\n",
      "Image:C:\\Users\\nisha\\Projects\\Real-time-Object-Detection-Yolo-OwnDataset\\Dataset\\Box\\Box. e23cd161-5a04-11ee-9b2c-f0a654343086.jpg -> Annotation:C:/Users/nisha/Projects/Real-time-Object-Detection-Yolo-OwnDataset/Dataset1\\Box. e23cd161-5a04-11ee-9b2c-f0a654343086.txt\n",
      "Image:C:\\Users\\nisha\\Projects\\Real-time-Object-Detection-Yolo-OwnDataset\\Dataset\\Box\\Box. e40ebf80-5a04-11ee-9b4d-f0a654343086.jpg -> Annotation:C:/Users/nisha/Projects/Real-time-Object-Detection-Yolo-OwnDataset/Dataset1\\Box. e40ebf80-5a04-11ee-9b4d-f0a654343086.txt\n",
      "Image:C:\\Users\\nisha\\Projects\\Real-time-Object-Detection-Yolo-OwnDataset\\Dataset\\Box\\Box. e67da658-5a04-11ee-b903-f0a654343086.jpg -> Annotation:C:/Users/nisha/Projects/Real-time-Object-Detection-Yolo-OwnDataset/Dataset1\\Box. e67da658-5a04-11ee-b903-f0a654343086.txt\n",
      "Image:C:\\Users\\nisha\\Projects\\Real-time-Object-Detection-Yolo-OwnDataset\\Dataset\\Box\\Box. e84f7216-5a04-11ee-9f51-f0a654343086.jpg -> Annotation:C:/Users/nisha/Projects/Real-time-Object-Detection-Yolo-OwnDataset/Dataset1\\Box. e84f7216-5a04-11ee-9f51-f0a654343086.txt\n",
      "Image:C:\\Users\\nisha\\Projects\\Real-time-Object-Detection-Yolo-OwnDataset\\Dataset\\Box\\Box. e106d4c2-5a04-11ee-9231-f0a654343086.jpg -> Annotation:C:/Users/nisha/Projects/Real-time-Object-Detection-Yolo-OwnDataset/Dataset1\\Box. e106d4c2-5a04-11ee-9231-f0a654343086.txt\n",
      "Image:C:\\Users\\nisha\\Projects\\Real-time-Object-Detection-Yolo-OwnDataset\\Dataset\\Box\\Box. e373e776-5a04-11ee-b51f-f0a654343086.jpg -> Annotation:C:/Users/nisha/Projects/Real-time-Object-Detection-Yolo-OwnDataset/Dataset1\\Box. e373e776-5a04-11ee-b51f-f0a654343086.txt\n",
      "Image:C:\\Users\\nisha\\Projects\\Real-time-Object-Detection-Yolo-OwnDataset\\Dataset\\Box\\Box. e719cabf-5a04-11ee-a4ce-f0a654343086.jpg -> Annotation:C:/Users/nisha/Projects/Real-time-Object-Detection-Yolo-OwnDataset/Dataset1\\Box. e719cabf-5a04-11ee-a4ce-f0a654343086.txt\n",
      "Image:C:\\Users\\nisha\\Projects\\Real-time-Object-Detection-Yolo-OwnDataset\\Dataset\\Box\\Box. e986ae14-5a04-11ee-9a1c-f0a654343086.jpg -> Annotation:C:/Users/nisha/Projects/Real-time-Object-Detection-Yolo-OwnDataset/Dataset1\\Box. e986ae14-5a04-11ee-9a1c-f0a654343086.txt\n",
      "Image:C:\\Users\\nisha\\Projects\\Real-time-Object-Detection-Yolo-OwnDataset\\Dataset\\Box\\Box. e544820a-5a04-11ee-9f5c-f0a654343086.jpg -> Annotation:C:/Users/nisha/Projects/Real-time-Object-Detection-Yolo-OwnDataset/Dataset1\\Box. e544820a-5a04-11ee-9f5c-f0a654343086.txt\n",
      "Image:C:\\Users\\nisha\\Projects\\Real-time-Object-Detection-Yolo-OwnDataset\\Dataset\\Box\\Box. ea211b53-5a04-11ee-a647-f0a654343086.jpg -> Annotation:C:/Users/nisha/Projects/Real-time-Object-Detection-Yolo-OwnDataset/Dataset1\\Box. ea211b53-5a04-11ee-a647-f0a654343086.txt\n",
      "Image:C:\\Users\\nisha\\Projects\\Real-time-Object-Detection-Yolo-OwnDataset\\Dataset\\Box\\Box. eabb8832-5a04-11ee-905f-f0a654343086.jpg -> Annotation:C:/Users/nisha/Projects/Real-time-Object-Detection-Yolo-OwnDataset/Dataset1\\Box. eabb8832-5a04-11ee-905f-f0a654343086.txt\n",
      "Image:C:\\Users\\nisha\\Projects\\Real-time-Object-Detection-Yolo-OwnDataset\\Dataset\\Box\\Box. eb567571-5a04-11ee-9f9c-f0a654343086.jpg -> Annotation:C:/Users/nisha/Projects/Real-time-Object-Detection-Yolo-OwnDataset/Dataset1\\Box. eb567571-5a04-11ee-9f9c-f0a654343086.txt\n",
      "Image:C:\\Users\\nisha\\Projects\\Real-time-Object-Detection-Yolo-OwnDataset\\Dataset\\Box\\Box. ebf0e518-5a04-11ee-b435-f0a654343086.jpg -> Annotation:C:/Users/nisha/Projects/Real-time-Object-Detection-Yolo-OwnDataset/Dataset1\\Box. ebf0e518-5a04-11ee-b435-f0a654343086.txt\n",
      "Image:C:\\Users\\nisha\\Projects\\Real-time-Object-Detection-Yolo-OwnDataset\\Dataset\\Box\\Box. ec8b6b69-5a04-11ee-9946-f0a654343086.jpg -> Annotation:C:/Users/nisha/Projects/Real-time-Object-Detection-Yolo-OwnDataset/Dataset1\\Box. ec8b6b69-5a04-11ee-9946-f0a654343086.txt\n",
      "Image:C:\\Users\\nisha\\Projects\\Real-time-Object-Detection-Yolo-OwnDataset\\Dataset\\Box\\Box. ed25e65c-5a04-11ee-99cf-f0a654343086.jpg -> Annotation:C:/Users/nisha/Projects/Real-time-Object-Detection-Yolo-OwnDataset/Dataset1\\Box. ed25e65c-5a04-11ee-99cf-f0a654343086.txt\n",
      "Image:C:\\Users\\nisha\\Projects\\Real-time-Object-Detection-Yolo-OwnDataset\\Dataset\\Box\\Box. edc1a686-5a04-11ee-b078-f0a654343086.jpg -> Annotation:C:/Users/nisha/Projects/Real-time-Object-Detection-Yolo-OwnDataset/Dataset1\\Box. edc1a686-5a04-11ee-b078-f0a654343086.txt\n",
      "Image:C:\\Users\\nisha\\Projects\\Real-time-Object-Detection-Yolo-OwnDataset\\Dataset\\Box\\Box. ee5eb917-5a04-11ee-b926-f0a654343086.jpg -> Annotation:C:/Users/nisha/Projects/Real-time-Object-Detection-Yolo-OwnDataset/Dataset1\\Box. ee5eb917-5a04-11ee-b926-f0a654343086.txt\n",
      "Image:C:\\Users\\nisha\\Projects\\Real-time-Object-Detection-Yolo-OwnDataset\\Dataset\\Box\\Box. eef9985d-5a04-11ee-b4b4-f0a654343086.jpg -> Annotation:C:/Users/nisha/Projects/Real-time-Object-Detection-Yolo-OwnDataset/Dataset1\\Box. eef9985d-5a04-11ee-b4b4-f0a654343086.txt\n",
      "Image:C:\\Users\\nisha\\Projects\\Real-time-Object-Detection-Yolo-OwnDataset\\Dataset\\Box\\Box. ef965aee-5a04-11ee-8942-f0a654343086.jpg -> Annotation:C:/Users/nisha/Projects/Real-time-Object-Detection-Yolo-OwnDataset/Dataset1\\Box. ef965aee-5a04-11ee-8942-f0a654343086.txt\n",
      "Image:C:\\Users\\nisha\\Projects\\Real-time-Object-Detection-Yolo-OwnDataset\\Dataset\\Mouse\\Mouse. bb6e00b7-5a04-11ee-9918-f0a654343086.jpg -> Annotation:C:/Users/nisha/Projects/Real-time-Object-Detection-Yolo-OwnDataset/Dataset1\\Mouse. bb6e00b7-5a04-11ee-9918-f0a654343086.txt\n",
      "Image:C:\\Users\\nisha\\Projects\\Real-time-Object-Detection-Yolo-OwnDataset\\Dataset\\Mouse\\Mouse. bc0890e8-5a04-11ee-8def-f0a654343086.jpg -> Annotation:C:/Users/nisha/Projects/Real-time-Object-Detection-Yolo-OwnDataset/Dataset1\\Mouse. bc0890e8-5a04-11ee-8def-f0a654343086.txt\n",
      "Image:C:\\Users\\nisha\\Projects\\Real-time-Object-Detection-Yolo-OwnDataset\\Dataset\\Mouse\\Mouse. bca48cf0-5a04-11ee-984d-f0a654343086.jpg -> Annotation:C:/Users/nisha/Projects/Real-time-Object-Detection-Yolo-OwnDataset/Dataset1\\Mouse. bca48cf0-5a04-11ee-984d-f0a654343086.txt\n",
      "Image:C:\\Users\\nisha\\Projects\\Real-time-Object-Detection-Yolo-OwnDataset\\Dataset\\Mouse\\Mouse. bd3f99d4-5a04-11ee-ba86-f0a654343086.jpg -> Annotation:C:/Users/nisha/Projects/Real-time-Object-Detection-Yolo-OwnDataset/Dataset1\\Mouse. bd3f99d4-5a04-11ee-ba86-f0a654343086.txt\n",
      "Image:C:\\Users\\nisha\\Projects\\Real-time-Object-Detection-Yolo-OwnDataset\\Dataset\\Mouse\\Mouse. bdda1a71-5a04-11ee-8d68-f0a654343086.jpg -> Annotation:C:/Users/nisha/Projects/Real-time-Object-Detection-Yolo-OwnDataset/Dataset1\\Mouse. bdda1a71-5a04-11ee-8d68-f0a654343086.txt\n",
      "Image:C:\\Users\\nisha\\Projects\\Real-time-Object-Detection-Yolo-OwnDataset\\Dataset\\Mouse\\Mouse. be76a92e-5a04-11ee-a273-f0a654343086.jpg -> Annotation:C:/Users/nisha/Projects/Real-time-Object-Detection-Yolo-OwnDataset/Dataset1\\Mouse. be76a92e-5a04-11ee-a273-f0a654343086.txt\n",
      "Image:C:\\Users\\nisha\\Projects\\Real-time-Object-Detection-Yolo-OwnDataset\\Dataset\\Mouse\\Mouse. bf118a49-5a04-11ee-a844-f0a654343086.jpg -> Annotation:C:/Users/nisha/Projects/Real-time-Object-Detection-Yolo-OwnDataset/Dataset1\\Mouse. bf118a49-5a04-11ee-a844-f0a654343086.txt\n",
      "Image:C:\\Users\\nisha\\Projects\\Real-time-Object-Detection-Yolo-OwnDataset\\Dataset\\Mouse\\Mouse. bfae6630-5a04-11ee-a975-f0a654343086.jpg -> Annotation:C:/Users/nisha/Projects/Real-time-Object-Detection-Yolo-OwnDataset/Dataset1\\Mouse. bfae6630-5a04-11ee-a975-f0a654343086.txt\n",
      "Image:C:\\Users\\nisha\\Projects\\Real-time-Object-Detection-Yolo-OwnDataset\\Dataset\\Mouse\\Mouse. c0e52e05-5a04-11ee-ba9b-f0a654343086.jpg -> Annotation:C:/Users/nisha/Projects/Real-time-Object-Detection-Yolo-OwnDataset/Dataset1\\Mouse. c0e52e05-5a04-11ee-ba9b-f0a654343086.txt\n",
      "Image:C:\\Users\\nisha\\Projects\\Real-time-Object-Detection-Yolo-OwnDataset\\Dataset\\Mouse\\Mouse. c2b66e43-5a04-11ee-8737-f0a654343086.jpg -> Annotation:C:/Users/nisha/Projects/Real-time-Object-Detection-Yolo-OwnDataset/Dataset1\\Mouse. c2b66e43-5a04-11ee-8737-f0a654343086.txt\n",
      "Image:C:\\Users\\nisha\\Projects\\Real-time-Object-Detection-Yolo-OwnDataset\\Dataset\\Mouse\\Mouse. c3ee8d88-5a04-11ee-b07a-f0a654343086.jpg -> Annotation:C:/Users/nisha/Projects/Real-time-Object-Detection-Yolo-OwnDataset/Dataset1\\Mouse. c3ee8d88-5a04-11ee-b07a-f0a654343086.txt\n",
      "Image:C:\\Users\\nisha\\Projects\\Real-time-Object-Detection-Yolo-OwnDataset\\Dataset\\Mouse\\Mouse. c5c1295c-5a04-11ee-8f44-f0a654343086.jpg -> Annotation:C:/Users/nisha/Projects/Real-time-Object-Detection-Yolo-OwnDataset/Dataset1\\Mouse. c5c1295c-5a04-11ee-8f44-f0a654343086.txt\n",
      "Image:C:\\Users\\nisha\\Projects\\Real-time-Object-Detection-Yolo-OwnDataset\\Dataset\\Mouse\\Mouse. c6f735a5-5a04-11ee-8b9c-f0a654343086.jpg -> Annotation:C:/Users/nisha/Projects/Real-time-Object-Detection-Yolo-OwnDataset/Dataset1\\Mouse. c6f735a5-5a04-11ee-8b9c-f0a654343086.txt\n",
      "Image:C:\\Users\\nisha\\Projects\\Real-time-Object-Detection-Yolo-OwnDataset\\Dataset\\Mouse\\Mouse. c8c718b4-5a04-11ee-b904-f0a654343086.jpg -> Annotation:C:/Users/nisha/Projects/Real-time-Object-Detection-Yolo-OwnDataset/Dataset1\\Mouse. c8c718b4-5a04-11ee-b904-f0a654343086.txt\n",
      "Cancel creation.\n",
      "Image:C:\\Users\\nisha\\Projects\\Real-time-Object-Detection-Yolo-OwnDataset\\Dataset\\Mouse\\Mouse. c9fcf583-5a04-11ee-974c-f0a654343086.jpg -> Annotation:C:/Users/nisha/Projects/Real-time-Object-Detection-Yolo-OwnDataset/Dataset1\\Mouse. c9fcf583-5a04-11ee-974c-f0a654343086.txt\n",
      "Image:C:\\Users\\nisha\\Projects\\Real-time-Object-Detection-Yolo-OwnDataset\\Dataset\\Mouse\\Mouse. c21b9e67-5a04-11ee-9287-f0a654343086.jpg -> Annotation:C:/Users/nisha/Projects/Real-time-Object-Detection-Yolo-OwnDataset/Dataset1\\Mouse. c21b9e67-5a04-11ee-9287-f0a654343086.txt\n",
      "Image:C:\\Users\\nisha\\Projects\\Real-time-Object-Detection-Yolo-OwnDataset\\Dataset\\Mouse\\Mouse. c65b8d5c-5a04-11ee-9cf8-f0a654343086.jpg -> Annotation:C:/Users/nisha/Projects/Real-time-Object-Detection-Yolo-OwnDataset/Dataset1\\Mouse. c65b8d5c-5a04-11ee-9cf8-f0a654343086.txt\n",
      "Image:C:\\Users\\nisha\\Projects\\Real-time-Object-Detection-Yolo-OwnDataset\\Dataset\\Mouse\\Mouse. c351a42a-5a04-11ee-b990-f0a654343086.jpg -> Annotation:C:/Users/nisha/Projects/Real-time-Object-Detection-Yolo-OwnDataset/Dataset1\\Mouse. c351a42a-5a04-11ee-b990-f0a654343086.txt\n",
      "Image:C:\\Users\\nisha\\Projects\\Real-time-Object-Detection-Yolo-OwnDataset\\Dataset\\Mouse\\Mouse. c791b944-5a04-11ee-bb89-f0a654343086.jpg -> Annotation:C:/Users/nisha/Projects/Real-time-Object-Detection-Yolo-OwnDataset/Dataset1\\Mouse. c791b944-5a04-11ee-bb89-f0a654343086.txt\n",
      "Image:C:\\Users\\nisha\\Projects\\Real-time-Object-Detection-Yolo-OwnDataset\\Dataset\\Mouse\\Mouse. c5261b0d-5a04-11ee-adee-f0a654343086.jpg -> Annotation:C:/Users/nisha/Projects/Real-time-Object-Detection-Yolo-OwnDataset/Dataset1\\Mouse. c5261b0d-5a04-11ee-adee-f0a654343086.txt\n",
      "Image:C:\\Users\\nisha\\Projects\\Real-time-Object-Detection-Yolo-OwnDataset\\Dataset\\Mouse\\Mouse. c18055b5-5a04-11ee-ba10-f0a654343086.jpg -> Annotation:C:/Users/nisha/Projects/Real-time-Object-Detection-Yolo-OwnDataset/Dataset1\\Mouse. c18055b5-5a04-11ee-ba10-f0a654343086.txt\n",
      "Image:C:\\Users\\nisha\\Projects\\Real-time-Object-Detection-Yolo-OwnDataset\\Dataset\\Mouse\\Mouse. c049474d-5a04-11ee-82fa-f0a654343086.jpg -> Annotation:C:/Users/nisha/Projects/Real-time-Object-Detection-Yolo-OwnDataset/Dataset1\\Mouse. c049474d-5a04-11ee-82fa-f0a654343086.txt\n",
      "Image:C:\\Users\\nisha\\Projects\\Real-time-Object-Detection-Yolo-OwnDataset\\Dataset\\Mouse\\Mouse. c961727e-5a04-11ee-9d27-f0a654343086.jpg -> Annotation:C:/Users/nisha/Projects/Real-time-Object-Detection-Yolo-OwnDataset/Dataset1\\Mouse. c961727e-5a04-11ee-9d27-f0a654343086.txt\n",
      "Image:C:\\Users\\nisha\\Projects\\Real-time-Object-Detection-Yolo-OwnDataset\\Dataset\\Mouse\\Mouse. c4897024-5a04-11ee-bf14-f0a654343086.jpg -> Annotation:C:/Users/nisha/Projects/Real-time-Object-Detection-Yolo-OwnDataset/Dataset1\\Mouse. c4897024-5a04-11ee-bf14-f0a654343086.txt\n",
      "Image:C:\\Users\\nisha\\Projects\\Real-time-Object-Detection-Yolo-OwnDataset\\Dataset\\Purse\\Purse. ce3b10f1-5a04-11ee-84a8-f0a654343086.jpg -> Annotation:C:/Users/nisha/Projects/Real-time-Object-Detection-Yolo-OwnDataset/Dataset1\\Purse. ce3b10f1-5a04-11ee-84a8-f0a654343086.txt\n",
      "Image:C:\\Users\\nisha\\Projects\\Real-time-Object-Detection-Yolo-OwnDataset\\Dataset\\Purse\\Purse. ced5a754-5a04-11ee-a13d-f0a654343086.jpg -> Annotation:C:/Users/nisha/Projects/Real-time-Object-Detection-Yolo-OwnDataset/Dataset1\\Purse. ced5a754-5a04-11ee-a13d-f0a654343086.txt\n",
      "Image:C:\\Users\\nisha\\Projects\\Real-time-Object-Detection-Yolo-OwnDataset\\Dataset\\Purse\\Purse. cf71b82f-5a04-11ee-a827-f0a654343086.jpg -> Annotation:C:/Users/nisha/Projects/Real-time-Object-Detection-Yolo-OwnDataset/Dataset1\\Purse. cf71b82f-5a04-11ee-a827-f0a654343086.txt\n",
      "Image:C:\\Users\\nisha\\Projects\\Real-time-Object-Detection-Yolo-OwnDataset\\Dataset\\Purse\\Purse. d0a85eab-5a04-11ee-aaea-f0a654343086.jpg -> Annotation:C:/Users/nisha/Projects/Real-time-Object-Detection-Yolo-OwnDataset/Dataset1\\Purse. d0a85eab-5a04-11ee-aaea-f0a654343086.txt\n",
      "Image:C:\\Users\\nisha\\Projects\\Real-time-Object-Detection-Yolo-OwnDataset\\Dataset\\Purse\\Purse. d00df75a-5a04-11ee-94e9-f0a654343086.jpg -> Annotation:C:/Users/nisha/Projects/Real-time-Object-Detection-Yolo-OwnDataset/Dataset1\\Purse. d00df75a-5a04-11ee-94e9-f0a654343086.txt\n",
      "Image:C:\\Users\\nisha\\Projects\\Real-time-Object-Detection-Yolo-OwnDataset\\Dataset\\Purse\\Purse. d1dd697f-5a04-11ee-af14-f0a654343086.jpg -> Annotation:C:/Users/nisha/Projects/Real-time-Object-Detection-Yolo-OwnDataset/Dataset1\\Purse. d1dd697f-5a04-11ee-af14-f0a654343086.txt\n",
      "Image:C:\\Users\\nisha\\Projects\\Real-time-Object-Detection-Yolo-OwnDataset\\Dataset\\Purse\\Purse. d3acb9df-5a04-11ee-9123-f0a654343086.jpg -> Annotation:C:/Users/nisha/Projects/Real-time-Object-Detection-Yolo-OwnDataset/Dataset1\\Purse. d3acb9df-5a04-11ee-9123-f0a654343086.txt\n",
      "Image:C:\\Users\\nisha\\Projects\\Real-time-Object-Detection-Yolo-OwnDataset\\Dataset\\Purse\\Purse. d4e1ba70-5a04-11ee-b006-f0a654343086.jpg -> Annotation:C:/Users/nisha/Projects/Real-time-Object-Detection-Yolo-OwnDataset/Dataset1\\Purse. d4e1ba70-5a04-11ee-b006-f0a654343086.txt\n",
      "Image:C:\\Users\\nisha\\Projects\\Real-time-Object-Detection-Yolo-OwnDataset\\Dataset\\Purse\\Purse. d6b48106-5a04-11ee-9b07-f0a654343086.jpg -> Annotation:C:/Users/nisha/Projects/Real-time-Object-Detection-Yolo-OwnDataset/Dataset1\\Purse. d6b48106-5a04-11ee-9b07-f0a654343086.txt\n",
      "Image:C:\\Users\\nisha\\Projects\\Real-time-Object-Detection-Yolo-OwnDataset\\Dataset\\Purse\\Purse. d7ec1936-5a04-11ee-8b77-f0a654343086.jpg -> Annotation:C:/Users/nisha/Projects/Real-time-Object-Detection-Yolo-OwnDataset/Dataset1\\Purse. d7ec1936-5a04-11ee-8b77-f0a654343086.txt\n",
      "Image:C:\\Users\\nisha\\Projects\\Real-time-Object-Detection-Yolo-OwnDataset\\Dataset\\Purse\\Purse. d9c0d40d-5a04-11ee-82d4-f0a654343086.jpg -> Annotation:C:/Users/nisha/Projects/Real-time-Object-Detection-Yolo-OwnDataset/Dataset1\\Purse. d9c0d40d-5a04-11ee-82d4-f0a654343086.txt\n",
      "Image:C:\\Users\\nisha\\Projects\\Real-time-Object-Detection-Yolo-OwnDataset\\Dataset\\Purse\\Purse. d57d5f60-5a04-11ee-b557-f0a654343086.jpg -> Annotation:C:/Users/nisha/Projects/Real-time-Object-Detection-Yolo-OwnDataset/Dataset1\\Purse. d57d5f60-5a04-11ee-b557-f0a654343086.txt\n",
      "Image:C:\\Users\\nisha\\Projects\\Real-time-Object-Detection-Yolo-OwnDataset\\Dataset\\Purse\\Purse. d74f808a-5a04-11ee-b88c-f0a654343086.jpg -> Annotation:C:/Users/nisha/Projects/Real-time-Object-Detection-Yolo-OwnDataset/Dataset1\\Purse. d74f808a-5a04-11ee-b88c-f0a654343086.txt\n",
      "Image:C:\\Users\\nisha\\Projects\\Real-time-Object-Detection-Yolo-OwnDataset\\Dataset\\Purse\\Purse. d617f784-5a04-11ee-b446-f0a654343086.jpg -> Annotation:C:/Users/nisha/Projects/Real-time-Object-Detection-Yolo-OwnDataset/Dataset1\\Purse. d617f784-5a04-11ee-b446-f0a654343086.txt\n",
      "Image:C:\\Users\\nisha\\Projects\\Real-time-Object-Detection-Yolo-OwnDataset\\Dataset\\Purse\\Purse. d8891ee3-5a04-11ee-9db4-f0a654343086.jpg -> Annotation:C:/Users/nisha/Projects/Real-time-Object-Detection-Yolo-OwnDataset/Dataset1\\Purse. d8891ee3-5a04-11ee-9db4-f0a654343086.txt\n",
      "Image:C:\\Users\\nisha\\Projects\\Real-time-Object-Detection-Yolo-OwnDataset\\Dataset\\Purse\\Purse. d31243d7-5a04-11ee-9662-f0a654343086.jpg -> Annotation:C:/Users/nisha/Projects/Real-time-Object-Detection-Yolo-OwnDataset/Dataset1\\Purse. d31243d7-5a04-11ee-9662-f0a654343086.txt\n",
      "Image:C:\\Users\\nisha\\Projects\\Real-time-Object-Detection-Yolo-OwnDataset\\Dataset\\Purse\\Purse. d143176e-5a04-11ee-ac40-f0a654343086.jpg -> Annotation:C:/Users/nisha/Projects/Real-time-Object-Detection-Yolo-OwnDataset/Dataset1\\Purse. d143176e-5a04-11ee-ac40-f0a654343086.txt\n",
      "Image:C:\\Users\\nisha\\Projects\\Real-time-Object-Detection-Yolo-OwnDataset\\Dataset\\Purse\\Purse. d447201a-5a04-11ee-b1da-f0a654343086.jpg -> Annotation:C:/Users/nisha/Projects/Real-time-Object-Detection-Yolo-OwnDataset/Dataset1\\Purse. d447201a-5a04-11ee-b1da-f0a654343086.txt\n",
      "Image:C:\\Users\\nisha\\Projects\\Real-time-Object-Detection-Yolo-OwnDataset\\Dataset\\Purse\\Purse. d926534f-5a04-11ee-8f33-f0a654343086.jpg -> Annotation:C:/Users/nisha/Projects/Real-time-Object-Detection-Yolo-OwnDataset/Dataset1\\Purse. d926534f-5a04-11ee-8f33-f0a654343086.txt\n",
      "Image:C:\\Users\\nisha\\Projects\\Real-time-Object-Detection-Yolo-OwnDataset\\Dataset\\Purse\\Purse. da5dbe27-5a04-11ee-b036-f0a654343086.jpg -> Annotation:C:/Users/nisha/Projects/Real-time-Object-Detection-Yolo-OwnDataset/Dataset1\\Purse. da5dbe27-5a04-11ee-b036-f0a654343086.txt\n",
      "Image:C:\\Users\\nisha\\Projects\\Real-time-Object-Detection-Yolo-OwnDataset\\Dataset\\Purse\\Purse. daf8242a-5a04-11ee-b6a9-f0a654343086.jpg -> Annotation:C:/Users/nisha/Projects/Real-time-Object-Detection-Yolo-OwnDataset/Dataset1\\Purse. daf8242a-5a04-11ee-b6a9-f0a654343086.txt\n",
      "Image:C:\\Users\\nisha\\Projects\\Real-time-Object-Detection-Yolo-OwnDataset\\Dataset\\Purse\\Purse. db92fa05-5a04-11ee-942d-f0a654343086.jpg -> Annotation:C:/Users/nisha/Projects/Real-time-Object-Detection-Yolo-OwnDataset/Dataset1\\Purse. db92fa05-5a04-11ee-942d-f0a654343086.txt\n",
      "Image:C:\\Users\\nisha\\Projects\\Real-time-Object-Detection-Yolo-OwnDataset\\Dataset\\Purse\\Purse. dc2d60eb-5a04-11ee-9903-f0a654343086.jpg -> Annotation:C:/Users/nisha/Projects/Real-time-Object-Detection-Yolo-OwnDataset/Dataset1\\Purse. dc2d60eb-5a04-11ee-9903-f0a654343086.txt\n",
      "Image:C:\\Users\\nisha\\Projects\\Real-time-Object-Detection-Yolo-OwnDataset\\Dataset\\Purse\\Purse. dcc7eed8-5a04-11ee-9189-f0a654343086.jpg -> Annotation:C:/Users/nisha/Projects/Real-time-Object-Detection-Yolo-OwnDataset/Dataset1\\Purse. dcc7eed8-5a04-11ee-9189-f0a654343086.txt\n",
      "Image:C:\\Users\\nisha\\Projects\\Real-time-Object-Detection-Yolo-OwnDataset\\Dataset\\Spoon\\Spoon. 01c1521a-5a05-11ee-869c-f0a654343086.jpg -> Annotation:C:/Users/nisha/Projects/Real-time-Object-Detection-Yolo-OwnDataset/Dataset1\\Spoon. 01c1521a-5a05-11ee-869c-f0a654343086.txt\n",
      "Image:C:\\Users\\nisha\\Projects\\Real-time-Object-Detection-Yolo-OwnDataset\\Dataset\\Spoon\\Spoon. 025bc167-5a05-11ee-a6a0-f0a654343086.jpg -> Annotation:C:/Users/nisha/Projects/Real-time-Object-Detection-Yolo-OwnDataset/Dataset1\\Spoon. 025bc167-5a05-11ee-a6a0-f0a654343086.txt\n",
      "Image:C:\\Users\\nisha\\Projects\\Real-time-Object-Detection-Yolo-OwnDataset\\Dataset\\Spoon\\Spoon. 0089f9f0-5a05-11ee-ae1f-f0a654343086.jpg -> Annotation:C:/Users/nisha/Projects/Real-time-Object-Detection-Yolo-OwnDataset/Dataset1\\Spoon. 0089f9f0-5a05-11ee-ae1f-f0a654343086.txt\n",
      "Image:C:\\Users\\nisha\\Projects\\Real-time-Object-Detection-Yolo-OwnDataset\\Dataset\\Spoon\\Spoon. 01246e3a-5a05-11ee-843d-f0a654343086.jpg -> Annotation:C:/Users/nisha/Projects/Real-time-Object-Detection-Yolo-OwnDataset/Dataset1\\Spoon. 01246e3a-5a05-11ee-843d-f0a654343086.txt\n",
      "Image:C:\\Users\\nisha\\Projects\\Real-time-Object-Detection-Yolo-OwnDataset\\Dataset\\Spoon\\Spoon. f6d44019-5a04-11ee-a82c-f0a654343086.jpg -> Annotation:C:/Users/nisha/Projects/Real-time-Object-Detection-Yolo-OwnDataset/Dataset1\\Spoon. f6d44019-5a04-11ee-a82c-f0a654343086.txt\n",
      "Cancel creation.\n",
      "Image:C:\\Users\\nisha\\Projects\\Real-time-Object-Detection-Yolo-OwnDataset\\Dataset\\Spoon\\Spoon. f8a5cc7f-5a04-11ee-b6bb-f0a654343086.jpg -> Annotation:C:/Users/nisha/Projects/Real-time-Object-Detection-Yolo-OwnDataset/Dataset1\\Spoon. f8a5cc7f-5a04-11ee-b6bb-f0a654343086.txt\n",
      "[('Spoon', [(137, 147), (301, 147), (301, 311), (137, 311)], None, None, False)]\n",
      "[('Spoon', [(132, 131), (346, 131), (346, 339), (132, 339)], None, None, False)]\n",
      "Image:C:\\Users\\nisha\\Projects\\Real-time-Object-Detection-Yolo-OwnDataset\\Dataset\\Spoon\\Spoon. f9db1986-5a04-11ee-9389-f0a654343086.jpg -> Annotation:C:/Users/nisha/Projects/Real-time-Object-Detection-Yolo-OwnDataset/Dataset1\\Spoon. f9db1986-5a04-11ee-9389-f0a654343086.txt\n",
      "[('Spoon', [(132, 131), (346, 131), (346, 339), (132, 339)], None, None, False)]\n",
      "[('d', [(104, 147), (395, 147), (395, 424), (104, 424)], None, None, False)]\n",
      "Cancel creation.\n",
      "Image:C:\\Users\\nisha\\Projects\\Real-time-Object-Detection-Yolo-OwnDataset\\Dataset\\Spoon\\Spoon. f9db1986-5a04-11ee-9389-f0a654343086.jpg -> Annotation:C:/Users/nisha/Projects/Real-time-Object-Detection-Yolo-OwnDataset/Dataset1\\Spoon. f9db1986-5a04-11ee-9389-f0a654343086.txt\n",
      "[('Spoon', [(132, 131), (346, 131), (346, 339), (132, 339)], None, None, False)]\n",
      "[('d', [(104, 147), (395, 147), (395, 424), (104, 424)], None, None, False), ('Spoon', [(101, 144), (398, 144), (398, 432), (101, 432)], None, None, False)]\n",
      "Image:C:\\Users\\nisha\\Projects\\Real-time-Object-Detection-Yolo-OwnDataset\\Dataset\\Spoon\\Spoon. f9db1986-5a04-11ee-9389-f0a654343086.jpg -> Annotation:C:/Users/nisha/Projects/Real-time-Object-Detection-Yolo-OwnDataset/Dataset1\\Spoon. f9db1986-5a04-11ee-9389-f0a654343086.txt\n",
      "[('Spoon', [(132, 131), (346, 131), (346, 339), (132, 339)], None, None, False)]\n",
      "[('Spoon', [(101, 144), (398, 144), (398, 432), (101, 432)], None, None, False)]\n",
      "Image:C:\\Users\\nisha\\Projects\\Real-time-Object-Detection-Yolo-OwnDataset\\Dataset\\Spoon\\Spoon. f59c48fb-5a04-11ee-aa83-f0a654343086.jpg -> Annotation:C:/Users/nisha/Projects/Real-time-Object-Detection-Yolo-OwnDataset/Dataset1\\Spoon. f59c48fb-5a04-11ee-aa83-f0a654343086.txt\n",
      "Image:C:\\Users\\nisha\\Projects\\Real-time-Object-Detection-Yolo-OwnDataset\\Dataset\\Spoon\\Spoon. f76e949f-5a04-11ee-b670-f0a654343086.jpg -> Annotation:C:/Users/nisha/Projects/Real-time-Object-Detection-Yolo-OwnDataset/Dataset1\\Spoon. f76e949f-5a04-11ee-b670-f0a654343086.txt\n",
      "Image:C:\\Users\\nisha\\Projects\\Real-time-Object-Detection-Yolo-OwnDataset\\Dataset\\Spoon\\Spoon. f80b26d7-5a04-11ee-9335-f0a654343086.jpg -> Annotation:C:/Users/nisha/Projects/Real-time-Object-Detection-Yolo-OwnDataset/Dataset1\\Spoon. f80b26d7-5a04-11ee-9335-f0a654343086.txt\n",
      "Image:C:\\Users\\nisha\\Projects\\Real-time-Object-Detection-Yolo-OwnDataset\\Dataset\\Spoon\\Spoon. f463daef-5a04-11ee-b283-f0a654343086.jpg -> Annotation:C:/Users/nisha/Projects/Real-time-Object-Detection-Yolo-OwnDataset/Dataset1\\Spoon. f463daef-5a04-11ee-b283-f0a654343086.txt\n",
      "Image:C:\\Users\\nisha\\Projects\\Real-time-Object-Detection-Yolo-OwnDataset\\Dataset\\Spoon\\Spoon. f940a6f6-5a04-11ee-922b-f0a654343086.jpg -> Annotation:C:/Users/nisha/Projects/Real-time-Object-Detection-Yolo-OwnDataset/Dataset1\\Spoon. f940a6f6-5a04-11ee-922b-f0a654343086.txt\n",
      "Image:C:\\Users\\nisha\\Projects\\Real-time-Object-Detection-Yolo-OwnDataset\\Dataset\\Spoon\\Spoon. f6375e0e-5a04-11ee-b9a4-f0a654343086.jpg -> Annotation:C:/Users/nisha/Projects/Real-time-Object-Detection-Yolo-OwnDataset/Dataset1\\Spoon. f6375e0e-5a04-11ee-b9a4-f0a654343086.txt\n",
      "Image:C:\\Users\\nisha\\Projects\\Real-time-Object-Detection-Yolo-OwnDataset\\Dataset\\Spoon\\Spoon. f5008250-5a04-11ee-9578-f0a654343086.jpg -> Annotation:C:/Users/nisha/Projects/Real-time-Object-Detection-Yolo-OwnDataset/Dataset1\\Spoon. f5008250-5a04-11ee-9578-f0a654343086.txt\n",
      "Image:C:\\Users\\nisha\\Projects\\Real-time-Object-Detection-Yolo-OwnDataset\\Dataset\\Spoon\\Spoon. fa771a02-5a04-11ee-8677-f0a654343086.jpg -> Annotation:C:/Users/nisha/Projects/Real-time-Object-Detection-Yolo-OwnDataset/Dataset1\\Spoon. fa771a02-5a04-11ee-8677-f0a654343086.txt\n",
      "Image:C:\\Users\\nisha\\Projects\\Real-time-Object-Detection-Yolo-OwnDataset\\Dataset\\Spoon\\Spoon. fb11e5ff-5a04-11ee-a68f-f0a654343086.jpg -> Annotation:C:/Users/nisha/Projects/Real-time-Object-Detection-Yolo-OwnDataset/Dataset1\\Spoon. fb11e5ff-5a04-11ee-a68f-f0a654343086.txt\n",
      "Image:C:\\Users\\nisha\\Projects\\Real-time-Object-Detection-Yolo-OwnDataset\\Dataset\\Spoon\\Spoon. fbac869a-5a04-11ee-805e-f0a654343086.jpg -> Annotation:C:/Users/nisha/Projects/Real-time-Object-Detection-Yolo-OwnDataset/Dataset1\\Spoon. fbac869a-5a04-11ee-805e-f0a654343086.txt\n",
      "Image:C:\\Users\\nisha\\Projects\\Real-time-Object-Detection-Yolo-OwnDataset\\Dataset\\Spoon\\Spoon. fc47d704-5a04-11ee-88be-f0a654343086.jpg -> Annotation:C:/Users/nisha/Projects/Real-time-Object-Detection-Yolo-OwnDataset/Dataset1\\Spoon. fc47d704-5a04-11ee-88be-f0a654343086.txt\n",
      "Image:C:\\Users\\nisha\\Projects\\Real-time-Object-Detection-Yolo-OwnDataset\\Dataset\\Spoon\\Spoon. fce2a243-5a04-11ee-af34-f0a654343086.jpg -> Annotation:C:/Users/nisha/Projects/Real-time-Object-Detection-Yolo-OwnDataset/Dataset1\\Spoon. fce2a243-5a04-11ee-af34-f0a654343086.txt\n",
      "Image:C:\\Users\\nisha\\Projects\\Real-time-Object-Detection-Yolo-OwnDataset\\Dataset\\Spoon\\Spoon. fd7f79dc-5a04-11ee-a795-f0a654343086.jpg -> Annotation:C:/Users/nisha/Projects/Real-time-Object-Detection-Yolo-OwnDataset/Dataset1\\Spoon. fd7f79dc-5a04-11ee-a795-f0a654343086.txt\n",
      "Image:C:\\Users\\nisha\\Projects\\Real-time-Object-Detection-Yolo-OwnDataset\\Dataset\\Spoon\\Spoon. fe19e9ed-5a04-11ee-9f36-f0a654343086.jpg -> Annotation:C:/Users/nisha/Projects/Real-time-Object-Detection-Yolo-OwnDataset/Dataset1\\Spoon. fe19e9ed-5a04-11ee-9f36-f0a654343086.txt\n",
      "Image:C:\\Users\\nisha\\Projects\\Real-time-Object-Detection-Yolo-OwnDataset\\Dataset\\Spoon\\Spoon. feb70fae-5a04-11ee-ba6a-f0a654343086.jpg -> Annotation:C:/Users/nisha/Projects/Real-time-Object-Detection-Yolo-OwnDataset/Dataset1\\Spoon. feb70fae-5a04-11ee-ba6a-f0a654343086.txt\n",
      "Image:C:\\Users\\nisha\\Projects\\Real-time-Object-Detection-Yolo-OwnDataset\\Dataset\\Spoon\\Spoon. ff523f61-5a04-11ee-89e0-f0a654343086.jpg -> Annotation:C:/Users/nisha/Projects/Real-time-Object-Detection-Yolo-OwnDataset/Dataset1\\Spoon. ff523f61-5a04-11ee-89e0-f0a654343086.txt\n",
      "Image:C:\\Users\\nisha\\Projects\\Real-time-Object-Detection-Yolo-OwnDataset\\Dataset\\Spoon\\Spoon. ffef8d88-5a04-11ee-b7f5-f0a654343086.jpg -> Annotation:C:/Users/nisha/Projects/Real-time-Object-Detection-Yolo-OwnDataset/Dataset1\\Spoon. ffef8d88-5a04-11ee-b7f5-f0a654343086.txt\n",
      "[('Spoon', [(132, 141), (324, 141), (324, 276), (132, 276)], None, None, False)]\n",
      "Cancel creation.\n",
      "[('Spoon', [(160, 101), (357, 101), (357, 277), (160, 277)], None, None, False)]\n",
      "[('Spoon', [(132, 141), (324, 141), (324, 276), (132, 276)], None, None, False)]\n",
      "[('Spoon', [(160, 101), (357, 101), (357, 277), (160, 277)], None, None, False)]\n",
      "[('Spoon', [(132, 141), (324, 141), (324, 276), (132, 276)], None, None, False)]\n",
      "[('Spoon', [(139, 143), (309, 143), (309, 268), (139, 268)], None, None, False)]\n"
     ]
    }
   ],
   "source": [
    "!cd {LABELING_PATH} && python labelimg.py\n"
   ]
  }
 ],
 "metadata": {
  "kernelspec": {
   "display_name": "Python 3 (ipykernel)",
   "language": "python",
   "name": "python3"
  },
  "language_info": {
   "codemirror_mode": {
    "name": "ipython",
    "version": 3
   },
   "file_extension": ".py",
   "mimetype": "text/x-python",
   "name": "python",
   "nbconvert_exporter": "python",
   "pygments_lexer": "ipython3",
   "version": "3.11.3"
  }
 },
 "nbformat": 4,
 "nbformat_minor": 5
}
